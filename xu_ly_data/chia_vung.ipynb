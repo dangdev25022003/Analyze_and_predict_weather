{
  "nbformat": 4,
  "nbformat_minor": 0,
  "metadata": {
    "colab": {
      "provenance": []
    },
    "kernelspec": {
      "name": "python3",
      "display_name": "Python 3"
    },
    "language_info": {
      "name": "python"
    }
  },
  "cells": [
    {
      "cell_type": "code",
      "execution_count": null,
      "metadata": {
        "id": "dIH6otIfMTnm"
      },
      "outputs": [],
      "source": [
        "import pandas as pd\n",
        "import glob\n",
        "import os"
      ]
    },
    {
      "cell_type": "code",
      "source": [
        "from google.colab import drive\n",
        "drive.mount('/content/drive')\n",
        "os.chdir('/content/drive/MyDrive/DS_PROJECT_FINAL TEST')"
      ],
      "metadata": {
        "colab": {
          "base_uri": "https://localhost:8080/"
        },
        "id": "OsgV4l_kOm9v",
        "outputId": "73cc0ee4-8cfe-4453-fd7d-c7069787c338"
      },
      "execution_count": null,
      "outputs": [
        {
          "output_type": "stream",
          "name": "stdout",
          "text": [
            "Drive already mounted at /content/drive; to attempt to forcibly remount, call drive.mount(\"/content/drive\", force_remount=True).\n"
          ]
        }
      ]
    },
    {
      "cell_type": "code",
      "source": [
        "from openpyxl import Workbook\n",
        "from openpyxl.utils.dataframe import dataframe_to_rows\n",
        "\n",
        "tay_bac_bo = ['Lao Cai', 'Yen Bai', 'Dien Bien', 'Lai Chau', 'Son La', 'Hoa Binh']\n",
        "dong_bac_bo = ['Ha Giang', 'Cao Bang', 'Lang Son', 'Tuyen Quang', 'Bac Kan', 'Thai Nguyen', 'Yen Bai', 'Phu Tho', 'Bac Giang', 'Quang Ninh']\n",
        "dong_bang_song_hong = ['Ha Noi', 'Hai Phong', 'Hung Yen', 'Nam Dinh', 'Thai Binh', 'Hai Duong', 'Hoa Binh', 'Ninh Binh', 'Vinh Phuc', 'Bac Ninh', 'Ha Nam']\n",
        "northernVN = ['Tay Bac Bo', 'Dong Bac Bo', 'Dong bang song Hong']\n",
        "\n",
        "for vung, area in zip([tay_bac_bo, dong_bac_bo, dong_bang_song_hong], northernVN):\n",
        "    workbook = Workbook()\n",
        "    for tinh in vung:\n",
        "        filename = f\"{tinh}.csv\"\n",
        "        data = pd.read_csv(filename)\n",
        "        sheet_name = tinh.replace(\" \", \"_\")\n",
        "        sheet = workbook.create_sheet(sheet_name)\n",
        "        for row in dataframe_to_rows(data, index=False, header=True):\n",
        "            sheet.append(row)\n",
        "\n",
        "    workbook.save(f\"{area}.xlsx\")\n",
        "\n",
        "data_list = []\n",
        "for filename in glob.glob(\"*.xlsx\"):\n",
        "    data = pd.read_excel(filename, sheet_name=None)\n",
        "    for sheet_name, sheet_data in data.items():\n",
        "        sheet_data['Province'] = sheet_name\n",
        "        data_list.append(sheet_data)\n",
        "\n",
        "all_data = pd.concat(data_list)\n",
        "with pd.ExcelWriter(\"Data Weather in Northern VietNam.xlsx\") as writer:\n",
        "    for province, province_data in all_data.groupby('Province'):\n",
        "        province_data.to_excel(writer, sheet_name=province, index=False)\n",
        "\n"
      ],
      "metadata": {
        "id": "XdviXBZzMbn9"
      },
      "execution_count": null,
      "outputs": []
    },
    {
      "cell_type": "code",
      "source": [],
      "metadata": {
        "id": "v9jdCsCvM0Yo"
      },
      "execution_count": null,
      "outputs": []
    }
  ]
}